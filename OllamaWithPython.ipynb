{
 "cells": [
  {
   "cell_type": "code",
   "execution_count": 1,
   "metadata": {},
   "outputs": [
    {
     "name": "stdout",
     "output_type": "stream",
     "text": [
      "Defaulting to user installation because normal site-packages is not writeableNote: you may need to restart the kernel to use updated packages.\n",
      "\n",
      "Requirement already satisfied: ollama in c:\\users\\erik_\\appdata\\roaming\\python\\python312\\site-packages (0.3.3)\n",
      "Requirement already satisfied: httpx<0.28.0,>=0.27.0 in c:\\users\\erik_\\appdata\\roaming\\python\\python312\\site-packages (from ollama) (0.27.2)\n",
      "Requirement already satisfied: anyio in c:\\users\\erik_\\appdata\\roaming\\python\\python312\\site-packages (from httpx<0.28.0,>=0.27.0->ollama) (4.6.0)\n",
      "Requirement already satisfied: certifi in c:\\users\\erik_\\appdata\\roaming\\python\\python312\\site-packages (from httpx<0.28.0,>=0.27.0->ollama) (2024.8.30)\n",
      "Requirement already satisfied: httpcore==1.* in c:\\users\\erik_\\appdata\\roaming\\python\\python312\\site-packages (from httpx<0.28.0,>=0.27.0->ollama) (1.0.6)\n",
      "Requirement already satisfied: idna in c:\\users\\erik_\\appdata\\roaming\\python\\python312\\site-packages (from httpx<0.28.0,>=0.27.0->ollama) (3.10)\n",
      "Requirement already satisfied: sniffio in c:\\users\\erik_\\appdata\\roaming\\python\\python312\\site-packages (from httpx<0.28.0,>=0.27.0->ollama) (1.3.1)\n",
      "Requirement already satisfied: h11<0.15,>=0.13 in c:\\users\\erik_\\appdata\\roaming\\python\\python312\\site-packages (from httpcore==1.*->httpx<0.28.0,>=0.27.0->ollama) (0.14.0)\n"
     ]
    }
   ],
   "source": [
    "pip install ollama"
   ]
  },
  {
   "cell_type": "code",
   "execution_count": 2,
   "metadata": {},
   "outputs": [],
   "source": [
    "import ollama"
   ]
  },
  {
   "cell_type": "code",
   "execution_count": 3,
   "metadata": {},
   "outputs": [
    {
     "data": {
      "text/plain": [
       "{'status': 'success'}"
      ]
     },
     "execution_count": 3,
     "metadata": {},
     "output_type": "execute_result"
    }
   ],
   "source": [
    "ollama.pull('llama3.1:8b')"
   ]
  },
  {
   "cell_type": "code",
   "execution_count": 5,
   "metadata": {},
   "outputs": [
    {
     "name": "stdout",
     "output_type": "stream",
     "text": [
      "Here's one:\n",
      "\n",
      "Why did the generative AI go to therapy?\n",
      "\n",
      "Because it was struggling to generate meaningful relationships, but instead kept producing outputs that were just a copy-paste of its own biases and flaws!\n",
      "\n",
      "(Sorry, I know it's a bit of a \"machine-learned\" joke)\n"
     ]
    }
   ],
   "source": [
    "result = ollama.generate(model='llama3.1:8b',\n",
    "    prompt='Give me a joke on generative AI',)\n",
    "print(result['response'])"
   ]
  },
  {
   "cell_type": "code",
   "execution_count": 6,
   "metadata": {},
   "outputs": [
    {
     "data": {
      "text/plain": [
       "{'model': 'llama3.1:8b',\n",
       " 'created_at': '2024-10-04T14:14:07.3325057Z',\n",
       " 'response': 'Here\\'s one:\\n\\nWhy did the generative AI go to therapy?\\n\\nBecause it was struggling to generate meaningful relationships, but instead kept producing outputs that were just a copy-paste of its own biases and flaws!\\n\\n(Sorry, I know it\\'s a bit of a \"machine-learned\" joke)',\n",
       " 'done': True,\n",
       " 'done_reason': 'stop',\n",
       " 'context': [128006,\n",
       "  882,\n",
       "  128007,\n",
       "  271,\n",
       "  36227,\n",
       "  757,\n",
       "  264,\n",
       "  22380,\n",
       "  389,\n",
       "  1803,\n",
       "  1413,\n",
       "  15592,\n",
       "  128009,\n",
       "  128006,\n",
       "  78191,\n",
       "  128007,\n",
       "  271,\n",
       "  8586,\n",
       "  596,\n",
       "  832,\n",
       "  1473,\n",
       "  10445,\n",
       "  1550,\n",
       "  279,\n",
       "  1803,\n",
       "  1413,\n",
       "  15592,\n",
       "  733,\n",
       "  311,\n",
       "  15419,\n",
       "  1980,\n",
       "  18433,\n",
       "  433,\n",
       "  574,\n",
       "  20558,\n",
       "  311,\n",
       "  7068,\n",
       "  23222,\n",
       "  12135,\n",
       "  11,\n",
       "  719,\n",
       "  4619,\n",
       "  8774,\n",
       "  17843,\n",
       "  16674,\n",
       "  430,\n",
       "  1051,\n",
       "  1120,\n",
       "  264,\n",
       "  3048,\n",
       "  2320,\n",
       "  5642,\n",
       "  315,\n",
       "  1202,\n",
       "  1866,\n",
       "  50183,\n",
       "  323,\n",
       "  41859,\n",
       "  2268,\n",
       "  3844,\n",
       "  8635,\n",
       "  11,\n",
       "  358,\n",
       "  1440,\n",
       "  433,\n",
       "  596,\n",
       "  264,\n",
       "  2766,\n",
       "  315,\n",
       "  264,\n",
       "  330,\n",
       "  33156,\n",
       "  12,\n",
       "  12964,\n",
       "  291,\n",
       "  1,\n",
       "  22380,\n",
       "  8],\n",
       " 'total_duration': 22455753900,\n",
       " 'load_duration': 20497484100,\n",
       " 'prompt_eval_count': 18,\n",
       " 'prompt_eval_duration': 155564000,\n",
       " 'eval_count': 62,\n",
       " 'eval_duration': 1796368000}"
      ]
     },
     "execution_count": 6,
     "metadata": {},
     "output_type": "execute_result"
    }
   ],
   "source": [
    "result"
   ]
  },
  {
   "cell_type": "code",
   "execution_count": 11,
   "metadata": {},
   "outputs": [
    {
     "data": {
      "text/plain": [
       "{'model': 'llama3.1:8b',\n",
       " 'created_at': '2024-10-04T15:17:27.8578816Z',\n",
       " 'message': {'role': 'assistant',\n",
       "  'content': 'Oh boy, are you ready for a cool concept? Gravity is like a big hug from the Earth!\\n\\nYou know how when you give someone a hug and they feel happy and safe? That\\'s kinda what the Earth does with everything on it. It gives them a gentle squeeze.\\n\\nImagine you have a ball, and you throw it up in the air. What happens? The ball comes back down to your hand, right? That\\'s because the Earth is giving it a hug, pulling it towards itself. This is called gravity.\\n\\nGravity is what keeps us on the ground, what makes things fall down when we drop them, and even what holds our atmosphere (the air around us) close to the Earth. It\\'s like the Earth is saying, \"Hey, stay close to me! I\\'ve got you!\"\\n\\nSo, whenever something has mass (like a rock or a person), it pulls on everything else with gravity. And that\\'s why we don\\'t float off into space when we\\'re standing on the ground – the Earth\\'s gravity is giving us a big hug!\\n\\nHow was that explanation? Do you have any questions about gravity now?'},\n",
       " 'done_reason': 'stop',\n",
       " 'done': True,\n",
       " 'total_duration': 28640090200,\n",
       " 'load_duration': 20814696200,\n",
       " 'prompt_eval_count': 18,\n",
       " 'prompt_eval_duration': 174759000,\n",
       " 'eval_count': 230,\n",
       " 'eval_duration': 7646642000}"
      ]
     },
     "execution_count": 11,
     "metadata": {},
     "output_type": "execute_result"
    }
   ],
   "source": [
    "from ollama import Client\n",
    "client = Client(host='http://localhost:11434')\n",
    "response = client.chat(model='llama3.1:8b', messages=[\n",
    "    {\n",
    "        'role': 'user',\n",
    "        'content': \"Explain gravity to 6 year old\",\n",
    "},\n",
    "])\n",
    "response"
   ]
  },
  {
   "cell_type": "code",
   "execution_count": null,
   "metadata": {},
   "outputs": [],
   "source": []
  }
 ],
 "metadata": {
  "kernelspec": {
   "display_name": "Python 3",
   "language": "python",
   "name": "python3"
  },
  "language_info": {
   "codemirror_mode": {
    "name": "ipython",
    "version": 3
   },
   "file_extension": ".py",
   "mimetype": "text/x-python",
   "name": "python",
   "nbconvert_exporter": "python",
   "pygments_lexer": "ipython3",
   "version": "3.12.7"
  }
 },
 "nbformat": 4,
 "nbformat_minor": 2
}
